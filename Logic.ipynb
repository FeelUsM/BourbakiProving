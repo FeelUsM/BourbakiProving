{
 "cells": [
  {
   "cell_type": "code",
   "execution_count": 1,
   "metadata": {},
   "outputs": [],
   "source": [
    "from Nodes import *"
   ]
  },
  {
   "cell_type": "code",
   "execution_count": 14,
   "metadata": {},
   "outputs": [],
   "source": [
    "def C6(AimpB,BimpC,_to = None):\n",
    "    assert AimpB.int.rhs==BimpC.int.lhs.arg, \\\n",
    "        (AimpB.rhs,BimpC.lhs.arg)\n",
    "    A = AimpB.int.lhs.arg\n",
    "    B = AimpB.int.rhs\n",
    "    C = BimpC.int.rhs\n",
    "    x = Prove.S4(B,C,Not(A)) # (B=>C)=>((A=>B)=>(A=>C))\n",
    "    y = Prove.C1(BimpC,x,Imp(Imp(A,B),Imp(A,C))) # (A=>B)=>(A=>C)\n",
    "    rez =  Prove.C1(AimpB,y,Imp(A,C))\n",
    "    if _to is None:\n",
    "        return rez\n",
    "    else:\n",
    "        return Prove.same(rez,_to)\n"
   ]
  },
  {
   "cell_type": "code",
   "execution_count": 3,
   "metadata": {},
   "outputs": [
    {
     "data": {
      "text/plain": [
       "Root(B => A or B)"
      ]
     },
     "execution_count": 3,
     "metadata": {},
     "output_type": "execute_result"
    }
   ],
   "source": [
    "A = RelCh('A')\n",
    "B = RelCh('B')\n",
    "x = Prove.S2(B,A) # B=>B||A\n",
    "y = Prove.S3(B,A) # B||A => A||B\n",
    "C7 = C6(x,y)\n",
    "C7"
   ]
  },
  {
   "cell_type": "code",
   "execution_count": 4,
   "metadata": {},
   "outputs": [
    {
     "data": {
      "text/plain": [
       "Root(A => A)"
      ]
     },
     "execution_count": 4,
     "metadata": {},
     "output_type": "execute_result"
    }
   ],
   "source": [
    "x = Prove.S2(A,A) # A=>(A||A)\n",
    "C8 = C6(x,Prove.S1(A))\n",
    "C8"
   ]
  },
  {
   "cell_type": "code",
   "execution_count": 5,
   "metadata": {},
   "outputs": [
    {
     "data": {
      "text/plain": [
       "Root(B => (A => B))"
      ]
     },
     "execution_count": 5,
     "metadata": {},
     "output_type": "execute_result"
    }
   ],
   "source": [
    "x = Prove.S2(B,Not(A)) # B=>B||!A\n",
    "y = Prove.S3(B,Not(A)) # B||!A => !A||B\n",
    "z = C6(x,y) # B\n",
    "C9 = Prove.same(z,Imp(B,Imp(A,B)))\n",
    "C9"
   ]
  },
  {
   "cell_type": "code",
   "execution_count": 6,
   "metadata": {},
   "outputs": [
    {
     "data": {
      "text/plain": [
       "Root(A or not A)"
      ]
     },
     "execution_count": 6,
     "metadata": {},
     "output_type": "execute_result"
    }
   ],
   "source": [
    "x = Prove.S3(Not(A),A) # !A||A => A||!A\n",
    "C10 = Prove.C1(C8,x,Or(A,Not(A)))\n",
    "C10"
   ]
  },
  {
   "cell_type": "code",
   "execution_count": 7,
   "metadata": {},
   "outputs": [
    {
     "data": {
      "text/plain": [
       "Root(A => not not A)"
      ]
     },
     "execution_count": 7,
     "metadata": {},
     "output_type": "execute_result"
    }
   ],
   "source": [
    "C11 = Prove.same(Prove.subst(C10,A,Not(A)),Imp(A,Not(Not(A))))\n",
    "C11"
   ]
  },
  {
   "cell_type": "code",
   "execution_count": 17,
   "metadata": {},
   "outputs": [
    {
     "data": {
      "text/plain": [
       "Root((A => B) => (not B => not A))"
      ]
     },
     "execution_count": 17,
     "metadata": {},
     "output_type": "execute_result"
    }
   ],
   "source": [
    "C12 = C6(\n",
    "    Prove.C1(\n",
    "        Prove.subst(C11,A,B),\n",
    "        Prove.S4(B,Not(Not(B)),Not(A))\n",
    "    ),\n",
    "    Prove.S3(Not(A),Not(Not(B))),\n",
    "    Imp(Imp(A,B),Imp(Not(B),Not(A)))\n",
    ")\n",
    "C12"
   ]
  },
  {
   "cell_type": "code",
   "execution_count": 18,
   "metadata": {},
   "outputs": [],
   "source": [
    "def match(expr,patt):\n",
    "    pass"
   ]
  },
  {
   "cell_type": "code",
   "execution_count": 19,
   "metadata": {},
   "outputs": [],
   "source": [
    "def C13(AimpB,BCAC,_to = None):\n",
    "    assert AimpB.int.rhs==BCAC.int.lhs.arg\n",
    "    A = AimpB.int.lhs.arg\n",
    "    B = AimpB.int.rhs\n",
    "    C = BimpC.int.rhs\n"
   ]
  },
  {
   "cell_type": "code",
   "execution_count": null,
   "metadata": {},
   "outputs": [],
   "source": []
  }
 ],
 "metadata": {
  "kernelspec": {
   "display_name": "Python 3",
   "language": "python",
   "name": "python3"
  },
  "language_info": {
   "codemirror_mode": {
    "name": "ipython",
    "version": 3
   },
   "file_extension": ".py",
   "mimetype": "text/x-python",
   "name": "python",
   "nbconvert_exporter": "python",
   "pygments_lexer": "ipython3",
   "version": "3.7.7"
  }
 },
 "nbformat": 4,
 "nbformat_minor": 4
}
