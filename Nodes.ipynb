{
 "cells": [
  {
   "cell_type": "code",
   "execution_count": 1,
   "metadata": {},
   "outputs": [],
   "source": [
    "#regexp:\n",
    "# #test([^\\n]*)\\n([^#][^\\n]*)\\n\n",
    "# #test\\1\\n#test  \\2\\n\n",
    "\n",
    "#\n",
    "# класс узел\n",
    "#   type\n",
    "#   парсится     \n",
    "#   отображается __repr__\n",
    "#   op\n",
    "#   args\n",
    "#   vars\n",
    "#\n",
    "# класс утверждения\n",
    "#   отображение: узел\n",
    "#   внут. структ. : узел\n",
    "#     получается из отображения\n",
    "#\n",
    "# класс доказанного утверждепия\n",
    "#   утверждение//rel\n",
    "#   получение из доказанного\n",
    "#     подстановкой\n",
    "#     C1\n",
    "#     совпадает внут.структ.\n",
    "#     S5\n",
    "#     S6\n",
    "#     S7\n",
    "#     S8\n",
    "#     создание аксиомы\n",
    "#   ... ссылки на предков и потомков\n",
    "#  \n",
    "# автоматический поиск доказательства\n",
    "#   ...\n",
    "#\n",
    "#\n",
    "#\n",
    "#\n",
    "def typeop(t,o):\n",
    "    def dec(nc):\n",
    "        @property\n",
    "        def type(self):\n",
    "            return t\n",
    "        @property\n",
    "        def op(self):\n",
    "            return o\n",
    "        nc.type = type\n",
    "        nc.op = op\n",
    "        return nc\n",
    "    return dec\n",
    "class Node:\n",
    "    @property\n",
    "    def vars(self):\n",
    "        return self._vars\n",
    "    def __repr__(self):\n",
    "        return self.print(self.vars)\n",
    "    @property\n",
    "    def show(self):\n",
    "        return self\n",
    "    @property\n",
    "    def int(self):\n",
    "        return self\n",
    "    \n",
    "class NodeArgs(Node):\n",
    "    @property\n",
    "    def args(self):\n",
    "        return self._args\n",
    "    def __init__(self,args):\n",
    "        self._args = args\n",
    "        self._vars = set()\n",
    "        for x in args:\n",
    "            self._vars |= x.vars\n",
    "    def __eq__(self,other):\n",
    "        return other.op==self.op and self.args==other.args\n",
    "    \n",
    "class NodeArgsBinary(NodeArgs):\n",
    "    @property\n",
    "    def lhs(self):\n",
    "        return self._args[0]\n",
    "    @property\n",
    "    def rhs(self):\n",
    "        return self._args[1]\n",
    "    def print(self,used):\n",
    "        l = self.args[0].print(used)\n",
    "        if self.args[0].op not in self.nobrace:\n",
    "            l = '('+l+')'\n",
    "        r = self.args[1].print(used)\n",
    "        if self.args[1].op not in self.nobrace:\n",
    "            r = '('+r+')'\n",
    "        return l+self._print_op+r\n",
    "\n",
    "class Root:\n",
    "    @property \n",
    "    def show(self):\n",
    "        return self._show\n",
    "    @property\n",
    "    def int(self):\n",
    "        return self._int\n",
    "    def __eq__(self,other):\n",
    "        return self.int==other.int\n",
    "    def __repr__(self):\n",
    "        return 'Root('+repr(self.show)+')'\n",
    "    def __init__(self,s,i):\n",
    "        self._show = s\n",
    "        self._int = i\n"
   ]
  },
  {
   "cell_type": "code",
   "execution_count": 2,
   "metadata": {},
   "outputs": [],
   "source": [
    "#test\n",
    "x = object()"
   ]
  },
  {
   "cell_type": "code",
   "execution_count": 3,
   "metadata": {},
   "outputs": [],
   "source": [
    "#test\n",
    "y=object()"
   ]
  },
  {
   "cell_type": "code",
   "execution_count": 4,
   "metadata": {},
   "outputs": [
    {
     "data": {
      "text/plain": [
       "False"
      ]
     },
     "execution_count": 4,
     "metadata": {},
     "output_type": "execute_result"
    }
   ],
   "source": [
    "#test\n",
    "x==y"
   ]
  },
  {
   "cell_type": "code",
   "execution_count": 5,
   "metadata": {},
   "outputs": [],
   "source": [
    "@typeop('rel','or')\n",
    "class _or(NodeArgsBinary):\n",
    "    def __init__(self,lhs,rhs):\n",
    "        assert lhs.type=='rel' and rhs.type=='rel', (lhs,rhs)\n",
    "        super().__init__([lhs,rhs])\n",
    "    nobrace = {'ch','not','eq'}\n",
    "    _print_op = ' or '\n",
    "def Or(lhs,rhs):\n",
    "    return Root(_or(lhs.show,rhs.show),\n",
    "                _or(lhs.int,rhs.int))\n",
    "    \n",
    "class _ch(Node):\n",
    "    @property\n",
    "    def op(self):\n",
    "        return 'ch'\n",
    "    @property\n",
    "    def type(self):\n",
    "        return self._type\n",
    "    @property\n",
    "    def ch(self):\n",
    "        return self._ch\n",
    "    def __init__(self,ch,t):\n",
    "        self._type = t\n",
    "        self._ch = ch\n",
    "        self._vars = {ch}\n",
    "    def print(self,used):\n",
    "        return self.ch\n",
    "    def __eq__(self,och):\n",
    "        return och.op=='ch' and self.ch==och.ch and self.type==och.type\n",
    "def RelCh(ch):\n",
    "    return _ch(ch,'rel')\n"
   ]
  },
  {
   "cell_type": "code",
   "execution_count": 6,
   "metadata": {},
   "outputs": [
    {
     "data": {
      "text/plain": [
       "A"
      ]
     },
     "execution_count": 6,
     "metadata": {},
     "output_type": "execute_result"
    }
   ],
   "source": [
    "#test\n",
    "A = RelCh('A')\n",
    "A"
   ]
  },
  {
   "cell_type": "code",
   "execution_count": 7,
   "metadata": {},
   "outputs": [
    {
     "data": {
      "text/plain": [
       "{'A'}"
      ]
     },
     "execution_count": 7,
     "metadata": {},
     "output_type": "execute_result"
    }
   ],
   "source": [
    "#test\n",
    "A.show.vars"
   ]
  },
  {
   "cell_type": "code",
   "execution_count": 8,
   "metadata": {},
   "outputs": [
    {
     "data": {
      "text/plain": [
       "Root(A or B)"
      ]
     },
     "execution_count": 8,
     "metadata": {},
     "output_type": "execute_result"
    }
   ],
   "source": [
    "#test\n",
    "B = RelCh('B')\n",
    "Or(A,B)"
   ]
  },
  {
   "cell_type": "code",
   "execution_count": 9,
   "metadata": {},
   "outputs": [
    {
     "data": {
      "text/plain": [
       "'or'"
      ]
     },
     "execution_count": 9,
     "metadata": {},
     "output_type": "execute_result"
    }
   ],
   "source": [
    "#test\n",
    "B = RelCh('B')\n",
    "Or(A,B).int.op"
   ]
  },
  {
   "cell_type": "code",
   "execution_count": 10,
   "metadata": {},
   "outputs": [
    {
     "data": {
      "text/plain": [
       "A"
      ]
     },
     "execution_count": 10,
     "metadata": {},
     "output_type": "execute_result"
    }
   ],
   "source": [
    "#test\n",
    "x = Or(A,B)\n",
    "x.int.args[0]"
   ]
  },
  {
   "cell_type": "code",
   "execution_count": 11,
   "metadata": {},
   "outputs": [
    {
     "data": {
      "text/plain": [
       "Root(A or (B or C))"
      ]
     },
     "execution_count": 11,
     "metadata": {},
     "output_type": "execute_result"
    }
   ],
   "source": [
    "#test\n",
    "C = RelCh('C')\n",
    "Or(A,Or(B,C))"
   ]
  },
  {
   "cell_type": "code",
   "execution_count": 12,
   "metadata": {},
   "outputs": [
    {
     "data": {
      "text/plain": [
       "True"
      ]
     },
     "execution_count": 12,
     "metadata": {},
     "output_type": "execute_result"
    }
   ],
   "source": [
    "#test\n",
    "A.int==A.int"
   ]
  },
  {
   "cell_type": "code",
   "execution_count": 13,
   "metadata": {},
   "outputs": [
    {
     "data": {
      "text/plain": [
       "True"
      ]
     },
     "execution_count": 13,
     "metadata": {},
     "output_type": "execute_result"
    }
   ],
   "source": [
    "#test\n",
    "Or(A,B).int==Or(A,B).int"
   ]
  },
  {
   "cell_type": "code",
   "execution_count": 14,
   "metadata": {},
   "outputs": [
    {
     "data": {
      "text/plain": [
       "False"
      ]
     },
     "execution_count": 14,
     "metadata": {},
     "output_type": "execute_result"
    }
   ],
   "source": [
    "#test\n",
    "Or(A,B)==Or(B,A)"
   ]
  },
  {
   "cell_type": "code",
   "execution_count": 15,
   "metadata": {},
   "outputs": [],
   "source": [
    "@typeop('rel','not')\n",
    "class _not(NodeArgs):\n",
    "    @property\n",
    "    def arg(self):\n",
    "        return self._args[0]\n",
    "    nobrace = {'not','ex','an','ch','eq'}\n",
    "    def __init__(self,arg):\n",
    "        assert arg.type=='rel'\n",
    "        super().__init__([arg])\n",
    "    def print(self,used):\n",
    "        a = self.args[0].print(used)\n",
    "        if self.args[0].op not in self.nobrace:\n",
    "            a = '('+a+')'\n",
    "        return 'not '+a\n",
    "def Not(arg):\n",
    "    return Root(_not(arg.show),\n",
    "                _not(arg.int))\n"
   ]
  },
  {
   "cell_type": "code",
   "execution_count": 16,
   "metadata": {},
   "outputs": [
    {
     "data": {
      "text/plain": [
       "Root(not A)"
      ]
     },
     "execution_count": 16,
     "metadata": {},
     "output_type": "execute_result"
    }
   ],
   "source": [
    "#test\n",
    "Not(A)"
   ]
  },
  {
   "cell_type": "code",
   "execution_count": 17,
   "metadata": {},
   "outputs": [
    {
     "data": {
      "text/plain": [
       "Root(not (A or B))"
      ]
     },
     "execution_count": 17,
     "metadata": {},
     "output_type": "execute_result"
    }
   ],
   "source": [
    "#test\n",
    "Not(Or(A,B))"
   ]
  },
  {
   "cell_type": "code",
   "execution_count": 18,
   "metadata": {},
   "outputs": [
    {
     "data": {
      "text/plain": [
       "Root(not A or B)"
      ]
     },
     "execution_count": 18,
     "metadata": {},
     "output_type": "execute_result"
    }
   ],
   "source": [
    "#test\n",
    "Or(Not(A),B)"
   ]
  },
  {
   "cell_type": "code",
   "execution_count": 19,
   "metadata": {},
   "outputs": [
    {
     "data": {
      "text/plain": [
       "Root(not not B)"
      ]
     },
     "execution_count": 19,
     "metadata": {},
     "output_type": "execute_result"
    }
   ],
   "source": [
    "#test\n",
    "Not(Not(B))"
   ]
  },
  {
   "cell_type": "code",
   "execution_count": 20,
   "metadata": {},
   "outputs": [
    {
     "data": {
      "text/plain": [
       "True"
      ]
     },
     "execution_count": 20,
     "metadata": {},
     "output_type": "execute_result"
    }
   ],
   "source": [
    "#test\n",
    "Not(A).int==Not(A).int"
   ]
  },
  {
   "cell_type": "code",
   "execution_count": 21,
   "metadata": {},
   "outputs": [
    {
     "data": {
      "text/plain": [
       "{'A'}"
      ]
     },
     "execution_count": 21,
     "metadata": {},
     "output_type": "execute_result"
    }
   ],
   "source": [
    "#test\n",
    "A.show.vars"
   ]
  },
  {
   "cell_type": "code",
   "execution_count": 22,
   "metadata": {},
   "outputs": [],
   "source": [
    "@typeop('rel','imp')\n",
    "class _imp(NodeArgsBinary):\n",
    "    nobrace = {'ch','or','not','eq'}\n",
    "    _print_op = ' => '\n",
    "    def __init__(self,lhs,rhs):\n",
    "        assert lhs.type=='rel' and rhs.type=='rel'\n",
    "        super().__init__([lhs,rhs])\n",
    "\n",
    "def Imp(lhs,rhs):\n",
    "    return Root(_imp(lhs.show,rhs.show),\n",
    "                _or(_not(lhs.int),rhs.int))\n"
   ]
  },
  {
   "cell_type": "code",
   "execution_count": 23,
   "metadata": {},
   "outputs": [
    {
     "data": {
      "text/plain": [
       "not A or B"
      ]
     },
     "execution_count": 23,
     "metadata": {},
     "output_type": "execute_result"
    }
   ],
   "source": [
    "#test\n",
    "Imp(A,B).int"
   ]
  },
  {
   "cell_type": "code",
   "execution_count": 24,
   "metadata": {},
   "outputs": [
    {
     "data": {
      "text/plain": [
       "Root(A => A or B)"
      ]
     },
     "execution_count": 24,
     "metadata": {},
     "output_type": "execute_result"
    }
   ],
   "source": [
    "#test\n",
    "Imp(A,Or(A,B))"
   ]
  },
  {
   "cell_type": "code",
   "execution_count": 25,
   "metadata": {},
   "outputs": [
    {
     "data": {
      "text/plain": [
       "6"
      ]
     },
     "execution_count": 25,
     "metadata": {},
     "output_type": "execute_result"
    }
   ],
   "source": [
    "#test\n",
    "class foo:\n",
    "    @staticmethod\n",
    "    def bar(x):\n",
    "        f = foo()\n",
    "        f.__x = x\n",
    "        return f\n",
    "    def getx(self):\n",
    "        return self.__x\n",
    "a = foo.bar(6)\n",
    "a.getx()"
   ]
  },
  {
   "cell_type": "code",
   "execution_count": 26,
   "metadata": {},
   "outputs": [],
   "source": [
    "# не изменяет исходных объектов\n",
    "from copy import copy\n",
    "def _subst(n,ch,expr):\n",
    "    assert ch.op=='ch'\n",
    "    if n.op=='ch':\n",
    "        if n.ch==ch.ch:\n",
    "            assert n.type==ch.type\n",
    "            return expr\n",
    "        else:\n",
    "            return n\n",
    "    elif isinstance(n,bound):\n",
    "        return n\n",
    "    else:\n",
    "        n1 = copy(n)\n",
    "        n1._args = []\n",
    "        n1._vars = set()\n",
    "        for x in n.args:\n",
    "            y = _subst(x,ch,expr)\n",
    "            n1._args.append(y)\n",
    "            n1._vars|=y.vars\n",
    "        return n1\n",
    "def subst(a,ch,expr):\n",
    "    return Root(_subst(a.show,ch.int,expr.show),\n",
    "                _subst(a.int ,ch.int,expr.int))"
   ]
  },
  {
   "cell_type": "code",
   "execution_count": 27,
   "metadata": {},
   "outputs": [
    {
     "data": {
      "text/plain": [
       "{'A'}"
      ]
     },
     "execution_count": 27,
     "metadata": {},
     "output_type": "execute_result"
    }
   ],
   "source": [
    "#test\n",
    "A.show.vars"
   ]
  },
  {
   "cell_type": "code",
   "execution_count": 28,
   "metadata": {},
   "outputs": [],
   "source": [
    "class NodeArgsBound(NodeArgs):\n",
    "    @property\n",
    "    def bound(self):\n",
    "        return self._bound\n",
    "    @property\n",
    "    def rel(self):\n",
    "        return self._args[0]\n",
    "    def __init__(self,ch,R,rec = []):\n",
    "        assert R.type=='rel'\n",
    "        assert isinstance(ch,_ch),type(ch)\n",
    "        assert ch.type=='term',ch\n",
    "        self._bound = bound([ch.ch]+rec)\n",
    "        super().__init__([_subst(R,ch,self.bound)])\n",
    "    def __eq__(self,other):\n",
    "        if other.op!=self.op: return False\n",
    "        self.bound._cureq = other.bound\n",
    "        other.bound._cureq = self\n",
    "        try:\n",
    "            rez = self.args==other.args\n",
    "        finally:\n",
    "            self.bound._cureq = None\n",
    "            other.bound._cureq = None\n",
    "        return rez\n"
   ]
  },
  {
   "cell_type": "code",
   "execution_count": 29,
   "metadata": {},
   "outputs": [],
   "source": [
    "@typeop('term','bound')\n",
    "class bound(Node):\n",
    "    _default = 'x,y,z,a,b,c,d,e,f,g,h,i,j,k,l,m,n'.split(',')\n",
    "    def __init__(self,rec):\n",
    "        self._recommended = rec\n",
    "        self._vars = set()\n",
    "    def choose(self,used):\n",
    "        for ch in self._recommended:\n",
    "            if ch not in used:\n",
    "                self._choosen = ch\n",
    "                return\n",
    "        for ch in self._default:\n",
    "            if ch not in used:\n",
    "                self._choosen = ch\n",
    "                return\n",
    "        raise Error(\"bound can't choose\")\n",
    "    def print(self,used):\n",
    "        return self._choosen\n",
    "    def __eq__(self,other):\n",
    "        return self is other or other is self._cureq\n",
    "    \n",
    "def TermCh(ch):\n",
    "    return _ch(ch,'term')\n",
    "        \n",
    "@typeop('term','tau')\n",
    "class _tau(NodeArgsBound):\n",
    "    def print(self,used):\n",
    "        self.bound.choose(used|self.vars)\n",
    "        #print(self.bound.choosen,type(self.bound.choosen))\n",
    "        u = used|{self.bound._choosen}\n",
    "        return 'tau('+self.bound.print(u)+','+\\\n",
    "                self.args[0].print(u)+')'\n",
    "    \n",
    "def Tau(ch,R,rec = []):\n",
    "    return Root(_tau(ch.int,R.show,rec),\n",
    "                _tau(ch.int,R.int,rec))\n"
   ]
  },
  {
   "cell_type": "code",
   "execution_count": 30,
   "metadata": {},
   "outputs": [
    {
     "data": {
      "text/plain": [
       "x"
      ]
     },
     "execution_count": 30,
     "metadata": {},
     "output_type": "execute_result"
    }
   ],
   "source": [
    "#test\n",
    "x = TermCh('x')\n",
    "y = TermCh('y')\n",
    "x"
   ]
  },
  {
   "cell_type": "code",
   "execution_count": 31,
   "metadata": {
    "scrolled": false
   },
   "outputs": [],
   "source": [
    "#test\n",
    "t = Tau(x,A)"
   ]
  },
  {
   "cell_type": "code",
   "execution_count": 32,
   "metadata": {
    "scrolled": true
   },
   "outputs": [],
   "source": [
    "#test\n",
    "t = Tau(y,A)"
   ]
  },
  {
   "cell_type": "code",
   "execution_count": 33,
   "metadata": {
    "scrolled": true
   },
   "outputs": [
    {
     "data": {
      "text/plain": [
       "Root(tau(y,A))"
      ]
     },
     "execution_count": 33,
     "metadata": {},
     "output_type": "execute_result"
    }
   ],
   "source": [
    "#test\n",
    "t"
   ]
  },
  {
   "cell_type": "code",
   "execution_count": 34,
   "metadata": {},
   "outputs": [
    {
     "data": {
      "text/plain": [
       "True"
      ]
     },
     "execution_count": 34,
     "metadata": {},
     "output_type": "execute_result"
    }
   ],
   "source": [
    "#test\n",
    "Tau(x,A).int==Tau(y,A).int"
   ]
  },
  {
   "cell_type": "code",
   "execution_count": 35,
   "metadata": {},
   "outputs": [
    {
     "data": {
      "text/plain": [
       "False"
      ]
     },
     "execution_count": 35,
     "metadata": {},
     "output_type": "execute_result"
    }
   ],
   "source": [
    "#test\n",
    "Tau(x,A).int==Tau(x,B).int"
   ]
  },
  {
   "cell_type": "code",
   "execution_count": 36,
   "metadata": {},
   "outputs": [],
   "source": [
    "@typeop('rel','eq')\n",
    "class _eq(NodeArgsBinary):\n",
    "    nobrace = {'ch','tau','bound'}\n",
    "    _print_op = '=='\n",
    "    def __init__(self,lhs,rhs):\n",
    "        assert lhs.type=='term' and rhs.type=='term'\n",
    "        super().__init__([lhs,rhs])\n",
    "def Eq(lhs,rhs):\n",
    "    return Root(_eq(lhs.show,rhs.show),\n",
    "                _eq(lhs.int,rhs.int))\n"
   ]
  },
  {
   "cell_type": "code",
   "execution_count": 37,
   "metadata": {
    "scrolled": false
   },
   "outputs": [
    {
     "data": {
      "text/plain": [
       "Root(x==y)"
      ]
     },
     "execution_count": 37,
     "metadata": {},
     "output_type": "execute_result"
    }
   ],
   "source": [
    "#test\n",
    "Eq(x,y)"
   ]
  },
  {
   "cell_type": "code",
   "execution_count": 38,
   "metadata": {
    "scrolled": true
   },
   "outputs": [
    {
     "data": {
      "text/plain": [
       "Root(tau(x,x==y))"
      ]
     },
     "execution_count": 38,
     "metadata": {},
     "output_type": "execute_result"
    }
   ],
   "source": [
    "#test\n",
    "Tau(x,Eq(x,y))"
   ]
  },
  {
   "cell_type": "code",
   "execution_count": 39,
   "metadata": {
    "scrolled": true
   },
   "outputs": [
    {
     "data": {
      "text/plain": [
       "Root(x==tau(z,z==y))"
      ]
     },
     "execution_count": 39,
     "metadata": {},
     "output_type": "execute_result"
    }
   ],
   "source": [
    "#test\n",
    "Eq(x,Tau(x,Eq(x,y)))"
   ]
  },
  {
   "cell_type": "code",
   "execution_count": 40,
   "metadata": {},
   "outputs": [],
   "source": [
    "@typeop('rel','ex')\n",
    "class _ex(NodeArgsBound):\n",
    "    def print(self,used):\n",
    "        self.bound.choose(used|self.vars)\n",
    "        #print(self.bound.choosen,type(self.bound.choosen))\n",
    "        u = used|{self.bound._choosen}\n",
    "        return 'Ex '+self.bound.print(u)+':'+\\\n",
    "                self.args[0].print(u)\n",
    "\n",
    "def Ex(ch,R,rec = []):\n",
    "    return Root(_ex(ch.int,R.show,rec),\n",
    "                _subst(R.int,ch.int,_tau(ch.int,R.int,rec)))\n"
   ]
  },
  {
   "cell_type": "code",
   "execution_count": 41,
   "metadata": {},
   "outputs": [
    {
     "data": {
      "text/plain": [
       "Root((Ex z:z==y) or x==x)"
      ]
     },
     "execution_count": 41,
     "metadata": {},
     "output_type": "execute_result"
    }
   ],
   "source": [
    "#test\n",
    "Or(Ex(x,Eq(x,y)),Eq(x,x))"
   ]
  },
  {
   "cell_type": "code",
   "execution_count": 42,
   "metadata": {},
   "outputs": [
    {
     "data": {
      "text/plain": [
       "tau(x,x==y)==y"
      ]
     },
     "execution_count": 42,
     "metadata": {},
     "output_type": "execute_result"
    }
   ],
   "source": [
    "#test\n",
    "Ex(x,Eq(x,y)).int"
   ]
  },
  {
   "cell_type": "code",
   "execution_count": 43,
   "metadata": {},
   "outputs": [],
   "source": [
    "@typeop('rel','an')\n",
    "class _an(NodeArgsBound):\n",
    "    def print(self,used):\n",
    "        self.bound.choose(used|self.vars)\n",
    "        #print(self.bound.choosen,type(self.bound.choosen))\n",
    "        u = used|{self.bound._choosen}\n",
    "        return 'An '+self.bound.print(u)+':'+\\\n",
    "                self.args[0].print(u)\n",
    "def An(ch,R,rec = []):\n",
    "    return Root(_an(ch.int,R.show,rec),\n",
    "                _not(Ex(ch,Not(R),rec).int))\n"
   ]
  },
  {
   "cell_type": "code",
   "execution_count": 44,
   "metadata": {},
   "outputs": [
    {
     "data": {
      "text/plain": [
       "Root(An x:x==y)"
      ]
     },
     "execution_count": 44,
     "metadata": {},
     "output_type": "execute_result"
    }
   ],
   "source": [
    "#test\n",
    "An(x,Eq(x,y))"
   ]
  },
  {
   "cell_type": "code",
   "execution_count": 45,
   "metadata": {},
   "outputs": [
    {
     "data": {
      "text/plain": [
       "True"
      ]
     },
     "execution_count": 45,
     "metadata": {},
     "output_type": "execute_result"
    }
   ],
   "source": [
    "#test\n",
    "An(x,Eq(x,y)).int==An(x,Eq(x,y)).int"
   ]
  },
  {
   "cell_type": "code",
   "execution_count": 46,
   "metadata": {},
   "outputs": [
    {
     "data": {
      "text/plain": [
       "True"
      ]
     },
     "execution_count": 46,
     "metadata": {},
     "output_type": "execute_result"
    }
   ],
   "source": [
    "#test\n",
    "Eq(x,y).int==Eq(x,y).int"
   ]
  },
  {
   "cell_type": "code",
   "execution_count": 47,
   "metadata": {},
   "outputs": [
    {
     "data": {
      "text/plain": [
       "not not tau(x,not x==y)==y"
      ]
     },
     "execution_count": 47,
     "metadata": {},
     "output_type": "execute_result"
    }
   ],
   "source": [
    "#test\n",
    "An(x,Eq(x,y)).int"
   ]
  },
  {
   "cell_type": "code",
   "execution_count": 48,
   "metadata": {},
   "outputs": [
    {
     "data": {
      "text/plain": [
       "not not A"
      ]
     },
     "execution_count": 48,
     "metadata": {},
     "output_type": "execute_result"
    }
   ],
   "source": [
    "#test\n",
    "An(x,A).int"
   ]
  },
  {
   "cell_type": "code",
   "execution_count": 53,
   "metadata": {},
   "outputs": [],
   "source": [
    "# класс доказанного утверждепия\n",
    "#   утверждение//rel\n",
    "#   получение из доказанного\n",
    "#     подстановкой\n",
    "#     C1\n",
    "#     совпадает внут.структ.\n",
    "#     S5\n",
    "#     S6\n",
    "#     S7\n",
    "#     S8\n",
    "#     создание аксиомы\n",
    "#   ... ссылки на предков и потомков\n",
    "class Prove:\n",
    "    @property\n",
    "    def rel(self):\n",
    "        return self.__rel\n",
    "    @property\n",
    "    def show(self):\n",
    "        return self.rel.show\n",
    "    @property\n",
    "    def int(self):\n",
    "        return self.rel.int\n",
    "    def __repr__(self):\n",
    "        return repr(self.rel)\n",
    "    def __eq__(other):\n",
    "        return self.rel==other.rel\n",
    "    @staticmethod\n",
    "    def __make(R):\n",
    "        ps = Prove()\n",
    "        ps.__rel = R\n",
    "        return ps\n",
    "        \n",
    "    # методы доказателства\n",
    "    @staticmethod\n",
    "    def same(_from,_to):\n",
    "        assert isinstance(_from,Prove)\n",
    "        assert _from.__rel.int==_to.int\n",
    "        return Prove.__make(_to)\n",
    "    @staticmethod\n",
    "    def subst(p,ch,expr):\n",
    "        assert isinstance(p,Prove)\n",
    "        return Prove.__make(subst(copy(p.__rel),ch,expr))\n",
    "    @staticmethod\n",
    "    def C1(_from,_because,_to = None):\n",
    "        assert isinstance(_from,Prove) and isinstance(_because,Prove)\n",
    "        _from = _from.__rel.int\n",
    "        _because = _because.__rel.int\n",
    "        assert _because.op=='or' and _because.lhs.op=='not'\n",
    "        assert _because.lhs.arg==_from\n",
    "        if _to is None:\n",
    "            _to = _because.rhs\n",
    "        else:\n",
    "            assert _because.rhs==_to.int\n",
    "        return Prove.__make(_to)\n",
    "    @staticmethod\n",
    "    def S1(A=None):\n",
    "        if A is None:\n",
    "            A = RelCh('A')\n",
    "        return Prove.__make(Imp(Or(A,A),A))\n",
    "    @staticmethod\n",
    "    def S2(A=None,B=None):\n",
    "        if B is None:\n",
    "            assert A is None\n",
    "            A = RelCh('A')\n",
    "            B = RelCh('B')\n",
    "        return Prove.__make(Imp(A,Or(A,B)))\n",
    "    @staticmethod\n",
    "    def S3(A=None,B=None):\n",
    "        if B is None:\n",
    "            assert A is None\n",
    "            A = RelCh('A')\n",
    "            B = RelCh('B')\n",
    "        return Prove.__make(Imp(Or(A,B),Or(B,A)))\n",
    "    @staticmethod\n",
    "    def S4(A=None,B=None,C=None):\n",
    "        if C is None:\n",
    "            assert A is None\n",
    "            A = RelCh('A')\n",
    "            B = RelCh('B')\n",
    "            C = RelCh('C')\n",
    "        return Prove.__make(Imp(Imp(A,B),Imp(Or(C,A),Or(C,B))))\n",
    "    @staticmethod\n",
    "    def S5(R,x,T):\n",
    "        return Prove.__make(Imp(subst(R,x,T),Ex(x,R)))\n",
    "    @staticmethod\n",
    "    def S6(R,x,T,U):\n",
    "        return Prove.__make(\n",
    "            Imp(Eq(T,U),Equiv(subst(R,x,T),subst(R,x,U))))\n",
    "    @staticmethod\n",
    "    def S7(R,S,x):\n",
    "        return Prove.__make(\n",
    "            Imp(An(x,Equiv(R,S)),Eq(Tau(x,R),Tau(x,S))))\n",
    "        "
   ]
  },
  {
   "cell_type": "code",
   "execution_count": 54,
   "metadata": {},
   "outputs": [
    {
     "data": {
      "text/plain": [
       "True"
      ]
     },
     "execution_count": 54,
     "metadata": {},
     "output_type": "execute_result"
    }
   ],
   "source": [
    "#test\n",
    "class C1:\n",
    "    pass\n",
    "class C2(C1):\n",
    "    pass\n",
    "x = C2()\n",
    "isinstance(x,C1)"
   ]
  },
  {
   "cell_type": "code",
   "execution_count": 56,
   "metadata": {},
   "outputs": [
    {
     "name": "stderr",
     "output_type": "stream",
     "text": [
      "[NbConvertApp] Converting notebook Nodes.ipynb to python\n",
      "[NbConvertApp] Writing 12248 bytes to Nodes.py\n"
     ]
    },
    {
     "name": "stdout",
     "output_type": "stream",
     "text": [
      "ЏҐаҐ¬ҐйҐ­® д ©«®ў:         1.\n"
     ]
    }
   ],
   "source": [
    "#test\n",
    "!jupyter nbconvert Nodes.ipynb --to python\n",
    "inf = open('Nodes.py')\n",
    "outf = open('Nodes1.py','w')\n",
    "test = False\n",
    "for line in inf:\n",
    "    if test:\n",
    "        outf.write('#test  '+line)\n",
    "        if line=='\\n':\n",
    "            #print(repr(line))\n",
    "            test = False\n",
    "    else:\n",
    "        if line.startswith('#test'):\n",
    "            test = True\n",
    "        outf.write(line)\n",
    "outf.close()\n",
    "inf.close()\n",
    "!move Nodes1.py Nodes.py"
   ]
  },
  {
   "cell_type": "code",
   "execution_count": 52,
   "metadata": {},
   "outputs": [
    {
     "data": {
      "text/plain": [
       "5"
      ]
     },
     "execution_count": 52,
     "metadata": {},
     "output_type": "execute_result"
    }
   ],
   "source": [
    "#test\n",
    "def dec(C):\n",
    "    C.x=5\n",
    "    return C\n",
    "@dec\n",
    "class cl:\n",
    "    pass\n",
    "cl.x"
   ]
  },
  {
   "cell_type": "code",
   "execution_count": null,
   "metadata": {},
   "outputs": [],
   "source": []
  }
 ],
 "metadata": {
  "kernelspec": {
   "display_name": "Python 3",
   "language": "python",
   "name": "python3"
  },
  "language_info": {
   "codemirror_mode": {
    "name": "ipython",
    "version": 3
   },
   "file_extension": ".py",
   "mimetype": "text/x-python",
   "name": "python",
   "nbconvert_exporter": "python",
   "pygments_lexer": "ipython3",
   "version": "3.7.7"
  }
 },
 "nbformat": 4,
 "nbformat_minor": 4
}
