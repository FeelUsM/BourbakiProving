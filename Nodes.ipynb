{
 "cells": [
  {
   "cell_type": "code",
   "execution_count": 1,
   "metadata": {},
   "outputs": [],
   "source": [
    "#regexp:\n",
    "# #test([^\\n]*)\\n([^#][^\\n]*)\\n\n",
    "# #test\\1\\n#test  \\2\\n\n",
    "\n",
    "#\n",
    "# класс узел\n",
    "#   type\n",
    "#   парсится     \n",
    "#   отображается __repr__\n",
    "#   op\n",
    "#   args\n",
    "#   vars\n",
    "#\n",
    "# класс утверждения\n",
    "#   отображение: узел\n",
    "#   внут. структ. : узел\n",
    "#     получается из отображения\n",
    "#\n",
    "# класс доказанного утверждепия\n",
    "#   утверждение//rel\n",
    "#   получение из доказанного\n",
    "#     подстановкой\n",
    "#     C1\n",
    "#     совпадает внут.структ.\n",
    "#     S5\n",
    "#     S6\n",
    "#     S7\n",
    "#     S8\n",
    "#     создание аксиомы\n",
    "#   ... ссылки на предков и потомков\n",
    "#  \n",
    "# автоматический поиск доказательства\n",
    "#   ...\n",
    "#\n",
    "#\n",
    "#\n",
    "#"
   ]
  },
  {
   "cell_type": "code",
   "execution_count": 2,
   "metadata": {},
   "outputs": [],
   "source": [
    "#test\n",
    "x = object()"
   ]
  },
  {
   "cell_type": "code",
   "execution_count": 3,
   "metadata": {},
   "outputs": [],
   "source": [
    "#test\n",
    "y=object()"
   ]
  },
  {
   "cell_type": "code",
   "execution_count": 4,
   "metadata": {},
   "outputs": [
    {
     "data": {
      "text/plain": [
       "False"
      ]
     },
     "execution_count": 4,
     "metadata": {},
     "output_type": "execute_result"
    }
   ],
   "source": [
    "#test\n",
    "x==y"
   ]
  },
  {
   "cell_type": "code",
   "execution_count": 71,
   "metadata": {},
   "outputs": [],
   "source": [
    "class _or:\n",
    "    type = 'rel'\n",
    "    op = 'or'\n",
    "    nobrace = {'ch','not','eq'}\n",
    "    def __init__(self,lhs,rhs):\n",
    "        assert lhs.type=='rel' and rhs.type=='rel'\n",
    "        self.args = [lhs,rhs]\n",
    "        self.vars = lhs.vars|rhs.vars\n",
    "    def print(self,used):\n",
    "        l = self.args[0].print(used)\n",
    "        if self.args[0].op not in self.nobrace:\n",
    "            l = '('+l+')'\n",
    "        r = self.args[1].print(used)\n",
    "        if self.args[1].op not in self.nobrace:\n",
    "            r = '('+r+')'\n",
    "        return l+' or '+r\n",
    "    def __repr__(self):\n",
    "        return self.print(self.vars)\n",
    "    def __eq__(self,oeq):\n",
    "        return oeq.op=='or' and self.args==oeq.args\n",
    "class Or:\n",
    "    def __init__(self,lhs,rhs):\n",
    "        self.show = _or(lhs.show,rhs.show)\n",
    "        self.int = _or(lhs.int,rhs.int)\n",
    "    def __repr__(self):\n",
    "        return repr(self.show)\n",
    "class _ch:\n",
    "    op = 'ch'\n",
    "    def __init__(self,ch,t):\n",
    "        self.type = t\n",
    "        self.ch = ch\n",
    "        self.vars = {ch}\n",
    "    def print(self,used):\n",
    "        return self.ch\n",
    "    def __repr__(self):\n",
    "        return self.ch\n",
    "    def __eq__(self,och):\n",
    "        return och.op=='ch' and self.ch==och.ch and self.type==och.type\n",
    "class RelCh:\n",
    "    def __init__(self,ch):\n",
    "        self.show = _ch(ch,'rel')\n",
    "        self.int = _ch(ch,'rel')\n",
    "    def __repr__(self):\n",
    "        return repr(self.show)"
   ]
  },
  {
   "cell_type": "code",
   "execution_count": 6,
   "metadata": {},
   "outputs": [
    {
     "data": {
      "text/plain": [
       "A"
      ]
     },
     "execution_count": 6,
     "metadata": {},
     "output_type": "execute_result"
    }
   ],
   "source": [
    "#test\n",
    "A = RelCh('A')\n",
    "A"
   ]
  },
  {
   "cell_type": "code",
   "execution_count": 7,
   "metadata": {},
   "outputs": [
    {
     "data": {
      "text/plain": [
       "{'A'}"
      ]
     },
     "execution_count": 7,
     "metadata": {},
     "output_type": "execute_result"
    }
   ],
   "source": [
    "#test\n",
    "A.show.vars"
   ]
  },
  {
   "cell_type": "code",
   "execution_count": 8,
   "metadata": {},
   "outputs": [
    {
     "data": {
      "text/plain": [
       "A or B"
      ]
     },
     "execution_count": 8,
     "metadata": {},
     "output_type": "execute_result"
    }
   ],
   "source": [
    "#test\n",
    "B = RelCh('B')\n",
    "Or(A,B)"
   ]
  },
  {
   "cell_type": "code",
   "execution_count": 9,
   "metadata": {},
   "outputs": [
    {
     "data": {
      "text/plain": [
       "A or (B or C)"
      ]
     },
     "execution_count": 9,
     "metadata": {},
     "output_type": "execute_result"
    }
   ],
   "source": [
    "#test\n",
    "C = RelCh('C')\n",
    "Or(A,Or(B,C))"
   ]
  },
  {
   "cell_type": "code",
   "execution_count": 67,
   "metadata": {},
   "outputs": [
    {
     "data": {
      "text/plain": [
       "True"
      ]
     },
     "execution_count": 67,
     "metadata": {},
     "output_type": "execute_result"
    }
   ],
   "source": [
    "#test\n",
    "A.int==A.int"
   ]
  },
  {
   "cell_type": "code",
   "execution_count": 73,
   "metadata": {},
   "outputs": [
    {
     "data": {
      "text/plain": [
       "True"
      ]
     },
     "execution_count": 73,
     "metadata": {},
     "output_type": "execute_result"
    }
   ],
   "source": [
    "#test\n",
    "Or(A,B).int==Or(A,B).int"
   ]
  },
  {
   "cell_type": "code",
   "execution_count": 74,
   "metadata": {},
   "outputs": [
    {
     "data": {
      "text/plain": [
       "False"
      ]
     },
     "execution_count": 74,
     "metadata": {},
     "output_type": "execute_result"
    }
   ],
   "source": [
    "#test\n",
    "Or(A,B)==Or(B,A)"
   ]
  },
  {
   "cell_type": "code",
   "execution_count": 76,
   "metadata": {},
   "outputs": [],
   "source": [
    "class _not:\n",
    "    type = 'rel'\n",
    "    op = 'not'\n",
    "    nobrace = {'not','ex','an','ch','eq'}\n",
    "    def __init__(self,arg):\n",
    "        assert arg.type=='rel'\n",
    "        self.args = [arg]\n",
    "        self.vars = arg.vars\n",
    "    def print(self,used):\n",
    "        a = self.args[0].print(used)\n",
    "        if self.args[0].op not in self.nobrace:\n",
    "            a = '('+a+')'\n",
    "        return 'not '+a\n",
    "    def __repr__(self):\n",
    "        return self.print(self.vars)\n",
    "    def __eq__(self,on):\n",
    "        return on.op=='not' and self.args==on.args\n",
    "class Not:\n",
    "    def __init__(self,arg):\n",
    "        self.show = _not(arg.show)\n",
    "        self.int = _not(arg.int)\n",
    "    def __repr__(self):\n",
    "        return repr(self.show)"
   ]
  },
  {
   "cell_type": "code",
   "execution_count": 11,
   "metadata": {},
   "outputs": [
    {
     "data": {
      "text/plain": [
       "not A"
      ]
     },
     "execution_count": 11,
     "metadata": {},
     "output_type": "execute_result"
    }
   ],
   "source": [
    "#test\n",
    "Not(A)"
   ]
  },
  {
   "cell_type": "code",
   "execution_count": 12,
   "metadata": {},
   "outputs": [
    {
     "data": {
      "text/plain": [
       "not (A or B)"
      ]
     },
     "execution_count": 12,
     "metadata": {},
     "output_type": "execute_result"
    }
   ],
   "source": [
    "#test\n",
    "Not(Or(A,B))"
   ]
  },
  {
   "cell_type": "code",
   "execution_count": 13,
   "metadata": {},
   "outputs": [
    {
     "data": {
      "text/plain": [
       "not A or B"
      ]
     },
     "execution_count": 13,
     "metadata": {},
     "output_type": "execute_result"
    }
   ],
   "source": [
    "#test\n",
    "Or(Not(A),B)"
   ]
  },
  {
   "cell_type": "code",
   "execution_count": 14,
   "metadata": {},
   "outputs": [
    {
     "data": {
      "text/plain": [
       "not not B"
      ]
     },
     "execution_count": 14,
     "metadata": {},
     "output_type": "execute_result"
    }
   ],
   "source": [
    "#test\n",
    "Not(Not(B))"
   ]
  },
  {
   "cell_type": "code",
   "execution_count": 77,
   "metadata": {},
   "outputs": [
    {
     "data": {
      "text/plain": [
       "True"
      ]
     },
     "execution_count": 77,
     "metadata": {},
     "output_type": "execute_result"
    }
   ],
   "source": [
    "#test\n",
    "Not(A).int==Not(A).int"
   ]
  },
  {
   "cell_type": "code",
   "execution_count": 15,
   "metadata": {},
   "outputs": [
    {
     "data": {
      "text/plain": [
       "{'A'}"
      ]
     },
     "execution_count": 15,
     "metadata": {},
     "output_type": "execute_result"
    }
   ],
   "source": [
    "#test\n",
    "A.show.vars"
   ]
  },
  {
   "cell_type": "code",
   "execution_count": 16,
   "metadata": {},
   "outputs": [],
   "source": [
    "class _imp:\n",
    "    type = 'rel'\n",
    "    op = 'imp'\n",
    "    nobrace = {'ch','or','not','eq'}\n",
    "    def __init__(self,lhs,rhs):\n",
    "        assert lhs.type=='rel' and rhs.type=='rel'\n",
    "        self.args = [lhs,rhs]\n",
    "        self.vars = lhs.vars|rhs.vars\n",
    "    def print(self,used):\n",
    "        l = self.args[0].print(used)\n",
    "        if self.args[0].op not in self.nobrace:\n",
    "            l = '('+l+')'\n",
    "        r = self.args[1].print(used)\n",
    "        if self.args[1].op not in self.nobrace:\n",
    "            r = '('+r+')'\n",
    "        return l+' => '+r\n",
    "    def __repr__(self):\n",
    "        return self.print(self.vars)\n",
    "    def __eq__(self,other):\n",
    "        return other.op=='imp' and self.args==other.args\n",
    "class Imp:\n",
    "    def __init__(self,lhs,rhs):\n",
    "        self.show = _imp(lhs.show,rhs.show)\n",
    "        self.int = _or(_not(lhs.int),rhs.int)\n",
    "    def __repr__(self):\n",
    "        return repr(self.show)\n"
   ]
  },
  {
   "cell_type": "code",
   "execution_count": 17,
   "metadata": {},
   "outputs": [
    {
     "data": {
      "text/plain": [
       "not A or B"
      ]
     },
     "execution_count": 17,
     "metadata": {},
     "output_type": "execute_result"
    }
   ],
   "source": [
    "#test\n",
    "Imp(A,B).int"
   ]
  },
  {
   "cell_type": "code",
   "execution_count": 18,
   "metadata": {},
   "outputs": [
    {
     "data": {
      "text/plain": [
       "A => A or B"
      ]
     },
     "execution_count": 18,
     "metadata": {},
     "output_type": "execute_result"
    }
   ],
   "source": [
    "#test\n",
    "Imp(A,Or(A,B))"
   ]
  },
  {
   "cell_type": "code",
   "execution_count": 19,
   "metadata": {},
   "outputs": [
    {
     "data": {
      "text/plain": [
       "6"
      ]
     },
     "execution_count": 19,
     "metadata": {},
     "output_type": "execute_result"
    }
   ],
   "source": [
    "#test\n",
    "class foo:\n",
    "    @staticmethod\n",
    "    def bar(x):\n",
    "        f = foo()\n",
    "        f.__x = x\n",
    "        return f\n",
    "    def getx(self):\n",
    "        return self.__x\n",
    "a = foo.bar(6)\n",
    "a.getx()"
   ]
  },
  {
   "cell_type": "code",
   "execution_count": 20,
   "metadata": {},
   "outputs": [],
   "source": [
    "from copy import copy\n",
    "def _subst(n,ch,expr):\n",
    "    assert ch.op=='ch'\n",
    "    if n.op=='ch':\n",
    "        if n.ch==ch.ch:\n",
    "            assert n.type==ch.type\n",
    "            return expr\n",
    "        else:\n",
    "            return n\n",
    "    elif isinstance(n,bound):\n",
    "        return n\n",
    "    else:\n",
    "        n1 = copy(n)\n",
    "        n1.args = []\n",
    "        n1.vars = set()\n",
    "        for x in n.args:\n",
    "            y = _subst(x,ch,expr)\n",
    "            n1.args.append(y)\n",
    "            n1.vars|=y.vars\n",
    "        return n1\n",
    "def subst(a,ch,expr):\n",
    "    r = object()\n",
    "    r.show = _subst(a.show,ch,expr)\n",
    "    r.int = _subst(a.int,ch,expr)"
   ]
  },
  {
   "cell_type": "code",
   "execution_count": 21,
   "metadata": {},
   "outputs": [
    {
     "data": {
      "text/plain": [
       "{'A'}"
      ]
     },
     "execution_count": 21,
     "metadata": {},
     "output_type": "execute_result"
    }
   ],
   "source": [
    "#test\n",
    "A.show.vars"
   ]
  },
  {
   "cell_type": "code",
   "execution_count": 78,
   "metadata": {},
   "outputs": [],
   "source": [
    "class bound:\n",
    "    _default = 'x,y,z,a,b,c,d,e,f,g,h,i,j,k,l,m,n'.split(',')\n",
    "    type = 'term'\n",
    "    op = 'bound'\n",
    "    vars = set()\n",
    "    def __init__(self,rec):\n",
    "        self.recommended = rec\n",
    "    def choose(self,used):\n",
    "        for ch in self.recommended:\n",
    "            if ch not in used:\n",
    "                self.choosen = ch\n",
    "                return\n",
    "        for ch in self._default:\n",
    "            if ch not in used:\n",
    "                self.choosen = ch\n",
    "                return\n",
    "        raise Error(\"bound can't choose\")\n",
    "    def print(self,used):\n",
    "        return self.choosen\n",
    "    def __eq__(self,other):\n",
    "        return self is other or other is self.cureq\n",
    "class TermCh:\n",
    "    def __init__(self,ch):\n",
    "        self.show = _ch(ch,'term')\n",
    "        self.int = _ch(ch,'term')\n",
    "    def __repr__(self):\n",
    "        return repr(self.show)    \n",
    "class _tau:\n",
    "    type = 'term'\n",
    "    op = 'tau'\n",
    "    def __init__(self,ch,R,rec = []):\n",
    "        assert R.type=='rel'\n",
    "        assert isinstance(ch,_ch),type(ch)\n",
    "        assert ch.type=='term',ch\n",
    "        self.bound = bound([ch.ch]+rec)\n",
    "        self.args = [_subst(R,ch,self.bound)]\n",
    "        self.vars = self.args[0].vars\n",
    "    def print(self,used):\n",
    "        self.bound.choose(used|self.vars)\n",
    "        #print(self.bound.choosen,type(self.bound.choosen))\n",
    "        u = used|{self.bound.choosen}\n",
    "        return 'tau('+self.bound.print(u)+','+\\\n",
    "                self.args[0].print(u)+')'\n",
    "    def __repr__(self):\n",
    "        return self.print(self.vars)\n",
    "    def __eq__(self,other):\n",
    "        if other.op!='tau': return False\n",
    "        self.bound.cureq = other.bound\n",
    "        other.bound.cureq = self\n",
    "        try:\n",
    "            rez = self.args==other.args\n",
    "        finally:\n",
    "            self.bound.cureq = None\n",
    "            other.bound.cureq = None\n",
    "        return rez\n",
    "class Tau:\n",
    "    def __init__(self,ch,R,rec = []):\n",
    "        if isinstance(ch,TermCh):\n",
    "            ch = ch.show\n",
    "        \n",
    "        self.show = _tau(ch,R.show,rec)\n",
    "        self.int = _tau(ch,R.int,rec)\n",
    "    def __repr__(self):\n",
    "        return repr(self.show)"
   ]
  },
  {
   "cell_type": "code",
   "execution_count": 82,
   "metadata": {},
   "outputs": [
    {
     "data": {
      "text/plain": [
       "x"
      ]
     },
     "execution_count": 82,
     "metadata": {},
     "output_type": "execute_result"
    }
   ],
   "source": [
    "#test\n",
    "x = TermCh('x')\n",
    "y = TermCh('y')\n",
    "x"
   ]
  },
  {
   "cell_type": "code",
   "execution_count": 83,
   "metadata": {
    "scrolled": false
   },
   "outputs": [],
   "source": [
    "#test\n",
    "t = Tau(x,A)"
   ]
  },
  {
   "cell_type": "code",
   "execution_count": 84,
   "metadata": {
    "scrolled": true
   },
   "outputs": [],
   "source": [
    "#test\n",
    "t = Tau(y,A)"
   ]
  },
  {
   "cell_type": "code",
   "execution_count": 85,
   "metadata": {
    "scrolled": true
   },
   "outputs": [
    {
     "data": {
      "text/plain": [
       "tau(y,A)"
      ]
     },
     "execution_count": 85,
     "metadata": {},
     "output_type": "execute_result"
    }
   ],
   "source": [
    "#test\n",
    "t"
   ]
  },
  {
   "cell_type": "code",
   "execution_count": 86,
   "metadata": {},
   "outputs": [
    {
     "data": {
      "text/plain": [
       "True"
      ]
     },
     "execution_count": 86,
     "metadata": {},
     "output_type": "execute_result"
    }
   ],
   "source": [
    "#test\n",
    "Tau(x,A).int==Tau(y,A).int"
   ]
  },
  {
   "cell_type": "code",
   "execution_count": 87,
   "metadata": {},
   "outputs": [
    {
     "data": {
      "text/plain": [
       "False"
      ]
     },
     "execution_count": 87,
     "metadata": {},
     "output_type": "execute_result"
    }
   ],
   "source": [
    "#test\n",
    "Tau(x,A).int==Tau(x,B).int"
   ]
  },
  {
   "cell_type": "code",
   "execution_count": 50,
   "metadata": {},
   "outputs": [],
   "source": [
    "class _eq:\n",
    "    type = 'rel'\n",
    "    op = 'eq'\n",
    "    nobrace = {'ch','tau','bound'}\n",
    "    def __init__(self,lhs,rhs):\n",
    "        assert lhs.type=='term' and rhs.type=='term'\n",
    "        self.args = [lhs,rhs]\n",
    "        self.vars = lhs.vars|rhs.vars\n",
    "    def print(self,used):\n",
    "        l = self.args[0].print(used)\n",
    "        if self.args[0].op not in self.nobrace:\n",
    "            l = '('+l+')'\n",
    "        r = self.args[1].print(used)\n",
    "        if self.args[1].op not in self.nobrace:\n",
    "            r = '('+r+')'\n",
    "        return l+'=='+r\n",
    "    def __repr__(self):\n",
    "        return self.print(self.vars)\n",
    "    def __eq__(self,other):\n",
    "        return other.op=='eq' and self.args==other.args\n",
    "class Eq:\n",
    "    def __init__(self,lhs,rhs):\n",
    "        self.show = _eq(lhs.show,rhs.show)\n",
    "        self.int = _eq(lhs.int,rhs.int)\n",
    "    def __repr__(self):\n",
    "        return repr(self.show)\n"
   ]
  },
  {
   "cell_type": "code",
   "execution_count": 51,
   "metadata": {
    "scrolled": false
   },
   "outputs": [
    {
     "data": {
      "text/plain": [
       "x==y"
      ]
     },
     "execution_count": 51,
     "metadata": {},
     "output_type": "execute_result"
    }
   ],
   "source": [
    "#test\n",
    "Eq(x,y)"
   ]
  },
  {
   "cell_type": "code",
   "execution_count": 52,
   "metadata": {
    "scrolled": true
   },
   "outputs": [
    {
     "data": {
      "text/plain": [
       "tau(x,x==y)"
      ]
     },
     "execution_count": 52,
     "metadata": {},
     "output_type": "execute_result"
    }
   ],
   "source": [
    "#test\n",
    "Tau(x,Eq(x,y))"
   ]
  },
  {
   "cell_type": "code",
   "execution_count": 53,
   "metadata": {
    "scrolled": true
   },
   "outputs": [
    {
     "data": {
      "text/plain": [
       "x==tau(z,z==y)"
      ]
     },
     "execution_count": 53,
     "metadata": {},
     "output_type": "execute_result"
    }
   ],
   "source": [
    "#test\n",
    "Eq(x,Tau(x,Eq(x,y)))"
   ]
  },
  {
   "cell_type": "code",
   "execution_count": 88,
   "metadata": {},
   "outputs": [],
   "source": [
    "class _ex:\n",
    "    type = 'rel'\n",
    "    prio = 6\n",
    "    op = 'ex'\n",
    "    def __init__(self,ch,R,rec = []):\n",
    "        assert R.type=='rel'\n",
    "        assert isinstance(ch,_ch),type(ch)\n",
    "        assert ch.type=='term',ch\n",
    "        self.bound = bound([ch.ch]+rec)\n",
    "        self.args = [_subst(R,ch,self.bound)]\n",
    "        self.vars = self.args[0].vars\n",
    "    def print(self,used):\n",
    "        self.bound.choose(used|self.vars)\n",
    "        #print(self.bound.choosen,type(self.bound.choosen))\n",
    "        u = used|{self.bound.choosen}\n",
    "        return 'Ex '+self.bound.print(u)+':'+\\\n",
    "                self.args[0].print(u)\n",
    "    def __repr__(self):\n",
    "        return self.print(self.vars)\n",
    "    def __eq__(self,other):\n",
    "        if other.op!='ex': return False\n",
    "        self.bound.cureq = other.bound\n",
    "        other.bound.cureq = self\n",
    "        try:\n",
    "            rez = self.args==other.args\n",
    "        finally:\n",
    "            self.bound.cureq = None\n",
    "            other.bound.cureq = None\n",
    "        return rez\n",
    "class Ex:\n",
    "    def __init__(self,ch,R,rec = []):\n",
    "        if isinstance(ch,TermCh):\n",
    "            ch = ch.show\n",
    "        \n",
    "        self.show = _ex(ch,R.show,rec)\n",
    "        self.int = _subst(R.int,ch,_tau(ch,R.int,rec))\n",
    "    def __repr__(self):\n",
    "        return repr(self.show)"
   ]
  },
  {
   "cell_type": "code",
   "execution_count": 55,
   "metadata": {},
   "outputs": [
    {
     "data": {
      "text/plain": [
       "(Ex z:z==y) or x==x"
      ]
     },
     "execution_count": 55,
     "metadata": {},
     "output_type": "execute_result"
    }
   ],
   "source": [
    "#test\n",
    "Or(Ex(x,Eq(x,y)),Eq(x,x))"
   ]
  },
  {
   "cell_type": "code",
   "execution_count": 56,
   "metadata": {},
   "outputs": [
    {
     "data": {
      "text/plain": [
       "tau(x,x==y)==y"
      ]
     },
     "execution_count": 56,
     "metadata": {},
     "output_type": "execute_result"
    }
   ],
   "source": [
    "#test\n",
    "Ex(x,Eq(x,y)).int"
   ]
  },
  {
   "cell_type": "code",
   "execution_count": 89,
   "metadata": {},
   "outputs": [],
   "source": [
    "class _an:\n",
    "    type = 'rel'\n",
    "    prio = 6\n",
    "    op = 'an'\n",
    "    def __init__(self,ch,R,rec = []):\n",
    "        assert R.type=='rel'\n",
    "        assert isinstance(ch,_ch),type(ch)\n",
    "        assert ch.type=='term',ch\n",
    "        self.bound = bound([ch.ch]+rec)\n",
    "        self.args = [_subst(R,ch,self.bound)]\n",
    "        self.vars = self.args[0].vars\n",
    "    def print(self,used):\n",
    "        self.bound.choose(used|self.vars)\n",
    "        #print(self.bound.choosen,type(self.bound.choosen))\n",
    "        u = used|{self.bound.choosen}\n",
    "        return 'An '+self.bound.print(u)+':'+\\\n",
    "                self.args[0].print(u)\n",
    "    def __repr__(self):\n",
    "        return self.print(self.vars)\n",
    "    def __eq__(self,other):\n",
    "        if other.op!='an': return False\n",
    "        self.bound.cureq = other.bound\n",
    "        other.bound.cureq = self\n",
    "        try:\n",
    "            rez = self.args==other.args\n",
    "        finally:\n",
    "            self.bound.cureq = None\n",
    "            other.bound.cureq = None\n",
    "        return rez\n",
    "class An:\n",
    "    def __init__(self,ch,R,rec = []):\n",
    "        if isinstance(ch,TermCh):\n",
    "            ch = ch.show\n",
    "        \n",
    "        self.show = _an(ch,R.show,rec)\n",
    "        self.int = _not(Ex(ch,Not(R),rec).int)\n",
    "    def __repr__(self):\n",
    "        return repr(self.show)"
   ]
  },
  {
   "cell_type": "code",
   "execution_count": 58,
   "metadata": {},
   "outputs": [
    {
     "data": {
      "text/plain": [
       "An x:x==y"
      ]
     },
     "execution_count": 58,
     "metadata": {},
     "output_type": "execute_result"
    }
   ],
   "source": [
    "#test\n",
    "An(x,Eq(x,y))"
   ]
  },
  {
   "cell_type": "code",
   "execution_count": 64,
   "metadata": {},
   "outputs": [
    {
     "data": {
      "text/plain": [
       "False"
      ]
     },
     "execution_count": 64,
     "metadata": {},
     "output_type": "execute_result"
    }
   ],
   "source": [
    "#test\n",
    "An(x,Eq(x,y)).int==An(x,Eq(x,y)).int"
   ]
  },
  {
   "cell_type": "code",
   "execution_count": 65,
   "metadata": {},
   "outputs": [
    {
     "data": {
      "text/plain": [
       "False"
      ]
     },
     "execution_count": 65,
     "metadata": {},
     "output_type": "execute_result"
    }
   ],
   "source": [
    "#test\n",
    "Eq(x,y).int==Eq(x,y).int"
   ]
  },
  {
   "cell_type": "code",
   "execution_count": 59,
   "metadata": {},
   "outputs": [
    {
     "data": {
      "text/plain": [
       "not not tau(x,not x==y)==y"
      ]
     },
     "execution_count": 59,
     "metadata": {},
     "output_type": "execute_result"
    }
   ],
   "source": [
    "#test\n",
    "An(x,Eq(x,y)).int"
   ]
  },
  {
   "cell_type": "code",
   "execution_count": 61,
   "metadata": {},
   "outputs": [
    {
     "data": {
      "text/plain": [
       "not not A"
      ]
     },
     "execution_count": 61,
     "metadata": {},
     "output_type": "execute_result"
    }
   ],
   "source": [
    "#test\n",
    "An(x,A).int"
   ]
  },
  {
   "cell_type": "code",
   "execution_count": 91,
   "metadata": {},
   "outputs": [],
   "source": [
    "# класс доказанного утверждепия\n",
    "#   утверждение//rel\n",
    "#   получение из доказанного\n",
    "#     подстановкой\n",
    "#     C1\n",
    "#     совпадает внут.структ.\n",
    "#     S5\n",
    "#     S6\n",
    "#     S7\n",
    "#     S8\n",
    "#     создание аксиомы\n",
    "#   ... ссылки на предков и потомков\n",
    "class Prove:\n",
    "    @staticmethod\n",
    "    def subst(p,ch,expr):\n",
    "        assert isinstance(p,Prove)\n",
    "        ps = Prove()\n",
    "        ps.__rel = subst(copy(p.__rel),ch,expr)\n",
    "        return ps\n",
    "    @staticmethod\n",
    "    def C1(_from,_because,_to):\n",
    "        assert isinstance(_from,Prove) and isinstance(_because,Prove)\n",
    "        _from = _from.__rel.int\n",
    "        _beacuse = _beacause.__rel.int\n",
    "        assert _because.op=='or' and _because.args[0].op=='not'\n",
    "        assert _because.args[0].args[0]==_from\n",
    "        assert _because.args[1]==_to.int\n",
    "        ps = Prove()\n",
    "        ps.__rel = _to\n",
    "        return ps\n",
    "    @staticmethod\n",
    "    def same(_from,_to):\n",
    "        assert isinstance(_from,Prove)\n",
    "        assert _from.__rel.int==_to.int\n",
    "        ps = Prove()\n",
    "        ps.__rel = _to\n",
    "        return ps\n",
    "    @staticmethod\n",
    "    def S1(A=None):\n",
    "        if A==None:\n",
    "            A = RelCh('A')\n",
    "        ps = Prove()\n",
    "        ps.__rel = Imp(Or(A,A),A)\n",
    "        return ps\n",
    "    @staticmethod\n",
    "    def S2(A=None,B=None):\n",
    "        if B==None:\n",
    "            assert A==None\n",
    "            A = RelCh('A')\n",
    "            B = RelCh('B')\n",
    "        ps = Prove()\n",
    "        ps.__rel = Imp(A,Or(A,B))\n",
    "        return ps\n",
    "    @staticmethod\n",
    "    def S3(A=None,B=None):\n",
    "        if B==None:\n",
    "            assert A==None\n",
    "            A = RelCh('A')\n",
    "            B = RelCh('B')\n",
    "        ps = Prove()\n",
    "        ps.__rel = Imp(Or(A,B),Or(B,A))\n",
    "        return ps\n",
    "    @staticmethod\n",
    "    def S4(A=None,B=None,C=None):\n",
    "        if C==None:\n",
    "            assert A==None\n",
    "            A = RelCh('A')\n",
    "            B = RelCh('B')\n",
    "            C = RelCh('C')\n",
    "        ps = Prove()\n",
    "        ps.__rel = Imp(Imp(A,B),Imp(Or(C,A),Or(C,B)))\n",
    "        return ps\n",
    "    @staticmethod\n",
    "    def S5(R,x,T):\n",
    "        ps = Prove()\n",
    "        ps.__rel = Imp(subst(R,x,T),Ex(x,R))\n",
    "        return ps\n",
    "    @staticmethod\n",
    "    def S6(R,x,T,U):\n",
    "        ps = Prove()\n",
    "        ps.__rel = Imp(Eq(T,U),Equiv(subst(R,x,T),subst(R,x,U)))\n",
    "        return ps\n",
    "    @staticmethod\n",
    "    def S7(R,S,x):\n",
    "        ps = Prove()\n",
    "        ps.__rel = Imp(An(x,Equiv(R,S)),Eq(Tau(x,R),Tau(x,S)))\n",
    "        return ps\n",
    "        "
   ]
  },
  {
   "cell_type": "code",
   "execution_count": null,
   "metadata": {},
   "outputs": [],
   "source": []
  }
 ],
 "metadata": {
  "kernelspec": {
   "display_name": "Python 3",
   "language": "python",
   "name": "python3"
  },
  "language_info": {
   "codemirror_mode": {
    "name": "ipython",
    "version": 3
   },
   "file_extension": ".py",
   "mimetype": "text/x-python",
   "name": "python",
   "nbconvert_exporter": "python",
   "pygments_lexer": "ipython3",
   "version": "3.7.7"
  }
 },
 "nbformat": 4,
 "nbformat_minor": 4
}
